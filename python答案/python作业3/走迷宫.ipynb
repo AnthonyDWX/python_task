{
 "cells": [
  {
   "cell_type": "code",
   "execution_count": 1,
   "metadata": {},
   "outputs": [
    {
     "name": "stdout",
     "output_type": "stream",
     "text": [
      "8\n"
     ]
    }
   ],
   "source": [
    "import pandas as pd\n",
    "Map=pd.read_csv(\"map.csv\").iloc[:,1:]\n",
    "route=[]\n",
    "def MG(Map0,x,y,L):\n",
    "    Map0.iloc[x,y]=2\n",
    "    L.append('(%s,%s)'%(x,y))\n",
    "    if(x==15 and y==15):\n",
    "        route.append(0)\n",
    "    if(x<15 and Map0.iloc[x+1,y]==0):\n",
    "        MG(Map0.iloc[:,:],x+1,y,L)\n",
    "    if(x>0 and Map0.iloc[x-1,y]==0):\n",
    "        MG(Map0.iloc[:,:],x-1,y,L)\n",
    "    if(y<15 and Map0.iloc[x,y+1]==0):\n",
    "        MG(Map0.iloc[:,:],x,y+1,L)\n",
    "    if(y>0 and Map0.iloc[x,y-1]==0):\n",
    "        MG(Map0.iloc[:,:],x,y-1,L)\n",
    "    Map0.iloc[x,y]=0\n",
    "MG(Map,0,0,[])\n",
    "print(len(route))"
   ]
  },
  {
   "cell_type": "code",
   "execution_count": null,
   "metadata": {
    "collapsed": true
   },
   "outputs": [],
   "source": []
  }
 ],
 "metadata": {
  "kernelspec": {
   "display_name": "Python 3",
   "language": "python",
   "name": "python3"
  },
  "language_info": {
   "codemirror_mode": {
    "name": "ipython",
    "version": 3
   },
   "file_extension": ".py",
   "mimetype": "text/x-python",
   "name": "python",
   "nbconvert_exporter": "python",
   "pygments_lexer": "ipython3",
   "version": "3.6.2"
  }
 },
 "nbformat": 4,
 "nbformat_minor": 2
}
