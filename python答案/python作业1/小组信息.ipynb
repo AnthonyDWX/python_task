{
 "cells": [
  {
   "cell_type": "code",
   "execution_count": 49,
   "metadata": {
    "collapsed": true
   },
   "outputs": [],
   "source": [
    "import numpy as np\n",
    "import pandas as pd"
   ]
  },
  {
   "cell_type": "code",
   "execution_count": 50,
   "metadata": {
    "collapsed": true
   },
   "outputs": [],
   "source": [
    "tlx=pd.Series(['贵阳','贵阳一中','没有'])"
   ]
  },
  {
   "cell_type": "code",
   "execution_count": 51,
   "metadata": {
    "collapsed": true
   },
   "outputs": [],
   "source": [
    "jzy=pd.Series(['南京','南师附中江宁','好多'])"
   ]
  },
  {
   "cell_type": "code",
   "execution_count": 52,
   "metadata": {
    "collapsed": true
   },
   "outputs": [],
   "source": [
    "dwx=pd.Series(['大连','理工副高','没有'])"
   ]
  },
  {
   "cell_type": "code",
   "execution_count": 53,
   "metadata": {
    "collapsed": true
   },
   "outputs": [],
   "source": [
    "zzn=pd.Series(['义乌','杭州英特','土豆'])"
   ]
  },
  {
   "cell_type": "code",
   "execution_count": 54,
   "metadata": {
    "collapsed": true
   },
   "outputs": [],
   "source": [
    "zjy=pd.Series(['南京','南外仙林','薯片'])"
   ]
  },
  {
   "cell_type": "code",
   "execution_count": 55,
   "metadata": {
    "collapsed": true
   },
   "outputs": [],
   "source": [
    "wjq=pd.Series(['无锡','无锡外国语','巧克力'])"
   ]
  },
  {
   "cell_type": "code",
   "execution_count": 56,
   "metadata": {
    "collapsed": true
   },
   "outputs": [],
   "source": [
    "qlf=pd.Series(['无锡','上实剑桥','没有'])"
   ]
  },
  {
   "cell_type": "code",
   "execution_count": 57,
   "metadata": {
    "collapsed": true
   },
   "outputs": [],
   "source": [
    "zl=pd.Series(['上海','上实剑桥','薯条'])"
   ]
  },
  {
   "cell_type": "code",
   "execution_count": 58,
   "metadata": {
    "collapsed": true
   },
   "outputs": [],
   "source": [
    "df=pd.concat([tlx,jzy,dwx,zzn,zjy,wjq,qlf,zl],axis=1,keys=['谭亮轩','蒋政业','董文轩','朱振男','赵俊祎','王嘉琪','钱霖帆','詹路'])\n",
    "df.index=['city','school','food']"
   ]
  },
  {
   "cell_type": "code",
   "execution_count": 59,
   "metadata": {},
   "outputs": [
    {
     "data": {
      "text/html": [
       "<div>\n",
       "<style>\n",
       "    .dataframe thead tr:only-child th {\n",
       "        text-align: right;\n",
       "    }\n",
       "\n",
       "    .dataframe thead th {\n",
       "        text-align: left;\n",
       "    }\n",
       "\n",
       "    .dataframe tbody tr th {\n",
       "        vertical-align: top;\n",
       "    }\n",
       "</style>\n",
       "<table border=\"1\" class=\"dataframe\">\n",
       "  <thead>\n",
       "    <tr style=\"text-align: right;\">\n",
       "      <th></th>\n",
       "      <th>谭亮轩</th>\n",
       "      <th>蒋政业</th>\n",
       "      <th>董文轩</th>\n",
       "      <th>朱振男</th>\n",
       "      <th>赵俊祎</th>\n",
       "      <th>王嘉琪</th>\n",
       "      <th>钱霖帆</th>\n",
       "      <th>詹路</th>\n",
       "    </tr>\n",
       "  </thead>\n",
       "  <tbody>\n",
       "    <tr>\n",
       "      <th>city</th>\n",
       "      <td>贵阳</td>\n",
       "      <td>南京</td>\n",
       "      <td>大连</td>\n",
       "      <td>义乌</td>\n",
       "      <td>南京</td>\n",
       "      <td>无锡</td>\n",
       "      <td>无锡</td>\n",
       "      <td>上海</td>\n",
       "    </tr>\n",
       "    <tr>\n",
       "      <th>school</th>\n",
       "      <td>贵阳一中</td>\n",
       "      <td>南师附中江宁</td>\n",
       "      <td>理工副高</td>\n",
       "      <td>杭州英特</td>\n",
       "      <td>南外仙林</td>\n",
       "      <td>无锡外国语</td>\n",
       "      <td>上实剑桥</td>\n",
       "      <td>上实剑桥</td>\n",
       "    </tr>\n",
       "    <tr>\n",
       "      <th>food</th>\n",
       "      <td>没有</td>\n",
       "      <td>好多</td>\n",
       "      <td>没有</td>\n",
       "      <td>土豆</td>\n",
       "      <td>薯片</td>\n",
       "      <td>巧克力</td>\n",
       "      <td>没有</td>\n",
       "      <td>薯条</td>\n",
       "    </tr>\n",
       "  </tbody>\n",
       "</table>\n",
       "</div>"
      ],
      "text/plain": [
       "         谭亮轩     蒋政业   董文轩   朱振男   赵俊祎    王嘉琪   钱霖帆    詹路\n",
       "city      贵阳      南京    大连    义乌    南京     无锡    无锡    上海\n",
       "school  贵阳一中  南师附中江宁  理工副高  杭州英特  南外仙林  无锡外国语  上实剑桥  上实剑桥\n",
       "food      没有      好多    没有    土豆    薯片    巧克力    没有    薯条"
      ]
     },
     "execution_count": 59,
     "metadata": {},
     "output_type": "execute_result"
    }
   ],
   "source": [
    "df"
   ]
  },
  {
   "cell_type": "code",
   "execution_count": null,
   "metadata": {
    "collapsed": true
   },
   "outputs": [],
   "source": []
  }
 ],
 "metadata": {
  "kernelspec": {
   "display_name": "Python 3",
   "language": "python",
   "name": "python3"
  },
  "language_info": {
   "codemirror_mode": {
    "name": "ipython",
    "version": 3
   },
   "file_extension": ".py",
   "mimetype": "text/x-python",
   "name": "python",
   "nbconvert_exporter": "python",
   "pygments_lexer": "ipython3",
   "version": "3.6.2"
  }
 },
 "nbformat": 4,
 "nbformat_minor": 2
}
