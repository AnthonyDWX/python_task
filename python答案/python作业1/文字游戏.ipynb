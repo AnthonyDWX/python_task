{
 "cells": [
  {
   "cell_type": "code",
   "execution_count": null,
   "metadata": {},
   "outputs": [
    {
     "name": "stdout",
     "output_type": "stream",
     "text": [
      "\n",
      "赌一把，猜大小？\n",
      "选大或小（大＝1 小＝2）？\n"
     ]
    }
   ],
   "source": [
    "import random\n",
    "import time\n",
    "def displayFintro():\n",
    "    print('赌一把，猜大小？')\n",
    "print()\n",
    "\n",
    "def choosevalue():\n",
    "    value=''\n",
    "    while value !=\"1\" and value !=\"2\":\n",
    "        print('选大或小（大＝1 小＝2）？')\n",
    "        value=input()\n",
    "    return value\n",
    "def checkvalue(choosevalue):\n",
    "    print('摇骰子中...')\n",
    "    time.sleep(2)\n",
    "    print('3!')\n",
    "    time.sleep(1)\n",
    "    print('2!')\n",
    "    time.sleep(1)\n",
    "    print('1!')\n",
    "    print()\n",
    "    time.sleep(1)\n",
    "    win=random.randint(1,2)\n",
    "    if choosevalue == str(win):\n",
    "        print('祝贺 您赢了！')\n",
    "    else:\n",
    "        print('很遗憾 您输光了所有的钱!')\n",
    "playAgain='是'\n",
    "while playAgain=='是':\n",
    "    displayFintro()\n",
    "    valueNumber =choosevalue()\n",
    "    checkvalue(valueNumber)\n",
    "    print('重来？（是或否）')\n",
    "    playAgain= input()\n",
    "    "
   ]
  },
  {
   "cell_type": "code",
   "execution_count": null,
   "metadata": {
    "collapsed": true
   },
   "outputs": [],
   "source": []
  }
 ],
 "metadata": {
  "kernelspec": {
   "display_name": "Python 3",
   "language": "python",
   "name": "python3"
  }
 },
 "nbformat": 4,
 "nbformat_minor": 2
}
